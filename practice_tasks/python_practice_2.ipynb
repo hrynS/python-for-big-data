{
  "nbformat": 4,
  "nbformat_minor": 0,
  "metadata": {
    "colab": {
      "provenance": []
    },
    "kernelspec": {
      "name": "python3",
      "display_name": "Python 3"
    },
    "language_info": {
      "name": "python"
    }
  },
  "cells": [
    {
      "cell_type": "markdown",
      "source": [
        "# I. Змінні та памʼять."
      ],
      "metadata": {
        "id": "p9wwt0LZzNvn"
      }
    },
    {
      "cell_type": "markdown",
      "source": [
        "1. Створити змінні, що посилаються на два цілих числа, що однакові за значенням, де значення належить проміжку від -5 до 256. Перевірте, чи будуть ці змінні рівні тільки за значенням або ж ще будуть посилатися на один і той самий обʼєкт в памʼяті? Наведіть код та дайте текстову відповідь нижче."
      ],
      "metadata": {
        "id": "HTJrrm95xSV9"
      }
    },
    {
      "cell_type": "code",
      "execution_count": null,
      "metadata": {
        "id": "TATni2vzayjG",
        "colab": {
          "base_uri": "https://localhost:8080/"
        },
        "outputId": "248f0d9e-134a-4e0b-ed1c-5efdcf7284d7"
      },
      "outputs": [
        {
          "output_type": "stream",
          "name": "stdout",
          "text": [
            "True\n",
            "False\n",
            "False\n"
          ]
        }
      ],
      "source": [
        "a = 5\n",
        "b = 5\n",
        "\n",
        "print(id(a) == id(b))\n",
        "\n",
        "a = -10\n",
        "b = -10\n",
        "\n",
        "print(id(a) == id(b))\n",
        "\n",
        "a = 257\n",
        "b = 257\n",
        "\n",
        "print(id(a) == id(b))"
      ]
    },
    {
      "cell_type": "markdown",
      "source": [
        "*місце для текстової відповіді"
      ],
      "metadata": {
        "id": "zfRG_o3WbRdg"
      }
    },
    {
      "cell_type": "markdown",
      "source": [
        "Так, змінні будуть посилатися на одну й ту саму комірку пам'яті, адже числа в проміжку від -5 до 256 є  за замовчуванням зарезервованими в пам'яті Python. Числа поза цим проміжком будуть зберігатися в різних комірках пам'яті"
      ],
      "metadata": {
        "id": "Y42XyVErr9PB"
      }
    },
    {
      "cell_type": "markdown",
      "source": [
        "2. За допомогою якої функції можна перевірити належність змінної до вказаного типу даних (напр. чи змінна True посилається на значення булевого та цілочисленого типу)?"
      ],
      "metadata": {
        "id": "ISORzt6M3vAt"
      }
    },
    {
      "cell_type": "code",
      "source": [
        "print(isinstance(True, bool))\n",
        "print(isinstance(False, int))\n",
        "print(isinstance([1], list))\n",
        "print(isinstance((10,), tuple))"
      ],
      "metadata": {
        "id": "9vL9CFaMbfyo",
        "colab": {
          "base_uri": "https://localhost:8080/"
        },
        "outputId": "dd3384e4-9dab-4757-d500-00d6affc4f1f"
      },
      "execution_count": null,
      "outputs": [
        {
          "output_type": "stream",
          "name": "stdout",
          "text": [
            "True\n",
            "True\n",
            "True\n",
            "True\n"
          ]
        }
      ]
    },
    {
      "cell_type": "markdown",
      "source": [
        "# II. Цілі числа та числа з рухомою комою"
      ],
      "metadata": {
        "id": "tRxugKAxwYLw"
      }
    },
    {
      "cell_type": "markdown",
      "source": [
        "3. Створити дві змінні, що посилаються на будь-які ціле число та число з рухомою комою та продемонструвати такі арифметичні операції: додавання, віднімання, ділення, множення, ділення без залишку, ділення по модулю, приведення до ступеню. Всі результати операцій вивести на екран."
      ],
      "metadata": {
        "id": "NLHkgd5Gybc8"
      }
    },
    {
      "cell_type": "code",
      "source": [
        "integer = 8\n",
        "some_float = 10.0\n",
        "\n",
        "print('додавання - ', integer + some_float)\n",
        "print('віднімання - ', integer - some_float)\n",
        "print('ділення - ', integer / some_float)\n",
        "print('множення - ', integer * some_float)\n",
        "print('ділення без залишку - ', integer // some_float)\n",
        "print('ділення по модулю - ', integer % some_float)\n",
        "print('приведення до ступеню - ', integer ** some_float)"
      ],
      "metadata": {
        "id": "nb8u_3pjb2cA",
        "colab": {
          "base_uri": "https://localhost:8080/"
        },
        "outputId": "f21a53bd-c9a0-4467-a9fd-79d05dfb09b2"
      },
      "execution_count": null,
      "outputs": [
        {
          "output_type": "stream",
          "name": "stdout",
          "text": [
            "додавання -  18.0\n",
            "віднімання -  -2.0\n",
            "ділення -  0.8\n",
            "множення -  80.0\n",
            "ділення без залишку -  0.0\n",
            "ділення по модулю -  8.0\n",
            "приведення до ступеню -  1073741824.0\n"
          ]
        }
      ]
    },
    {
      "cell_type": "markdown",
      "source": [
        "4. Використовуючи змінні з вправи 3, продемонструйте механізм явного перетворення типів, де числа з рухомою комою перетворюються на цілі числа. Також визначте змінну, що посилається на значення булевого типу і спробуйте явно привести її до цілого числа."
      ],
      "metadata": {
        "id": "1kBClKgPzZnC"
      }
    },
    {
      "cell_type": "code",
      "source": [
        "print(int(some_float))\n",
        "\n",
        "boolean = True\n",
        "\n",
        "print(int(boolean))\n"
      ],
      "metadata": {
        "id": "TbqJbkeUcKsD",
        "colab": {
          "base_uri": "https://localhost:8080/"
        },
        "outputId": "0892a295-988d-413b-e079-69f31cc71cfc"
      },
      "execution_count": null,
      "outputs": [
        {
          "output_type": "stream",
          "name": "stdout",
          "text": [
            "10\n",
            "1\n"
          ]
        }
      ]
    },
    {
      "cell_type": "markdown",
      "source": [
        "# IІІ. Рядки (String)."
      ],
      "metadata": {
        "id": "EVJ7AflwxrZi"
      }
    },
    {
      "cell_type": "markdown",
      "source": [
        "5. Створити пустий рядок двома різними способами."
      ],
      "metadata": {
        "id": "_s5ECzz9zE61"
      }
    },
    {
      "cell_type": "code",
      "source": [
        "empty_string_1 = ''\n",
        "empty_string_2 = \"\"\n",
        "# empty multi-line string\n",
        "empty_string_2 = \"\"\"\"\"\"\n",
        "# empty string with constructor\n",
        "empty_string_3 = str()"
      ],
      "metadata": {
        "id": "fkZJHu9Scvc-"
      },
      "execution_count": null,
      "outputs": []
    },
    {
      "cell_type": "markdown",
      "source": [
        "6. Створити рядок з апострофом. Зробити його сирим. Вивести обидва рядка на екран."
      ],
      "metadata": {
        "id": "4Bdn9J3MzLf_"
      }
    },
    {
      "cell_type": "code",
      "source": [
        "string_with_apostrophe_1 = \"'\"\n",
        "# alternative\n",
        "string_with_apostrophe_2 = \"\\'\"\n",
        "raw_string_with_apostrophe = r\"'\"\n",
        "\n",
        "print(string_with_apostrophe_2)\n",
        "print(raw_string_with_apostrophe)"
      ],
      "metadata": {
        "id": "ivji_hsmc0GH",
        "colab": {
          "base_uri": "https://localhost:8080/"
        },
        "outputId": "7edd6201-4c7c-4455-8475-7fb9964ece6c"
      },
      "execution_count": null,
      "outputs": [
        {
          "output_type": "stream",
          "name": "stdout",
          "text": [
            "'\n",
            "'\n"
          ]
        }
      ]
    },
    {
      "cell_type": "markdown",
      "source": [
        "7. Створити змінну, що буде посилатися на Ваше прізвище латинкою. Створити форматований рядок, який буде мати вигляд \"My surname is ______\", де на місці нижніх підкреслень буде Ваше прізвище зі змінної."
      ],
      "metadata": {
        "id": "bg_d8wM4z8dS"
      }
    },
    {
      "cell_type": "code",
      "source": [
        "last_name = 'Hrynevych'\n",
        "formatted_last_name = f'My surname is {last_name}'"
      ],
      "metadata": {
        "id": "kuxFgpWndACq",
        "colab": {
          "base_uri": "https://localhost:8080/",
          "height": 35
        },
        "outputId": "c80ef951-b356-4140-deb6-5a3c26f609bf"
      },
      "execution_count": null,
      "outputs": [
        {
          "output_type": "execute_result",
          "data": {
            "text/plain": [
              "'My surname is Hrynevych'"
            ],
            "application/vnd.google.colaboratory.intrinsic+json": {
              "type": "string"
            }
          },
          "metadata": {},
          "execution_count": 52
        }
      ]
    },
    {
      "cell_type": "markdown",
      "source": [
        "8. Маючи рядок \"My dog is crazy.\" перетворити його на список [\"my\", \"dog\", \"is\", \"crazy\"]"
      ],
      "metadata": {
        "id": "1Nc6RqvQ0hxU"
      }
    },
    {
      "cell_type": "code",
      "source": [
        "sentence = 'My dog is crazy.'\n",
        "sentence_without_period = sentence[:-1]\n",
        "\n",
        "words_list = sentence_without_period.lower().split(' ')\n",
        "words_list"
      ],
      "metadata": {
        "id": "w1Ya4RqedUhw",
        "colab": {
          "base_uri": "https://localhost:8080/"
        },
        "outputId": "f538a1ce-3d4f-4fe6-e29e-9e005a8edcff"
      },
      "execution_count": null,
      "outputs": [
        {
          "output_type": "execute_result",
          "data": {
            "text/plain": [
              "['my', 'dog', 'is', 'crazy']"
            ]
          },
          "metadata": {},
          "execution_count": 59
        }
      ]
    },
    {
      "cell_type": "markdown",
      "source": [
        "# IV. Робота зі списками."
      ],
      "metadata": {
        "id": "GYVqN9uP1D4n"
      }
    },
    {
      "cell_type": "markdown",
      "source": [
        "9. Створити список двома різними за синтаксисом способами. За допомогою вбудованої функції обчисліть довжину одного з них."
      ],
      "metadata": {
        "id": "7-DeDunw2sO-"
      }
    },
    {
      "cell_type": "code",
      "source": [
        "list_1 = [1, 2, 3]\n",
        "list_2 = list()\n",
        "\n",
        "len(list_1)"
      ],
      "metadata": {
        "id": "zxg06Uuxdyoh",
        "colab": {
          "base_uri": "https://localhost:8080/"
        },
        "outputId": "b9d0bc91-9408-408c-b677-1d71279be9d4"
      },
      "execution_count": null,
      "outputs": [
        {
          "output_type": "execute_result",
          "data": {
            "text/plain": [
              "3"
            ]
          },
          "metadata": {},
          "execution_count": 68
        }
      ]
    },
    {
      "cell_type": "markdown",
      "source": [
        "10. Створіть два списка та за допомогою спеціального методу додайте другий з них в якості останнього елемента першого."
      ],
      "metadata": {
        "id": "8vmGUTjL22gI"
      }
    },
    {
      "cell_type": "code",
      "source": [
        "list_1 = [1, 2, 3]\n",
        "list_2 = list((4, 5, 6, list_1))\n",
        "\n",
        "list_2"
      ],
      "metadata": {
        "id": "uHtjWYw7d7hm",
        "colab": {
          "base_uri": "https://localhost:8080/"
        },
        "outputId": "0b083fe2-c913-40ca-8c54-0f13d591b1f7"
      },
      "execution_count": null,
      "outputs": [
        {
          "output_type": "execute_result",
          "data": {
            "text/plain": [
              "[4, 5, 6, [1, 2, 3]]"
            ]
          },
          "metadata": {},
          "execution_count": 70
        }
      ]
    },
    {
      "cell_type": "markdown",
      "source": [
        "11. Створіть список, де елементами цього списку також є списки. Отримай перший елемент з останнього рядка та виведи значення на екран."
      ],
      "metadata": {
        "id": "JC3BkD-67_--"
      }
    },
    {
      "cell_type": "code",
      "source": [
        "list_of_lists_1 = [[1], [2, 3], ['4', '5', '6']]\n",
        "\n",
        "print(list_of_lists_1[-1][0])"
      ],
      "metadata": {
        "id": "Kz2jZHsGeLlz",
        "colab": {
          "base_uri": "https://localhost:8080/"
        },
        "outputId": "82486d27-a255-41e5-d632-d7f043c70c31"
      },
      "execution_count": null,
      "outputs": [
        {
          "output_type": "stream",
          "name": "stdout",
          "text": [
            "4\n"
          ]
        }
      ]
    },
    {
      "cell_type": "markdown",
      "source": [
        "12. Створіть список з десяти елементів різного типу. Отримайте всі елементи, окрім двох перших та двох останніх та збережіть їх в новій змінній."
      ],
      "metadata": {
        "id": "JA47PKTv8zFK"
      }
    },
    {
      "cell_type": "code",
      "source": [
        "mixed_list = [0, True, '2', 3.0, None, set('set'), { 'foo': 'bar' }, [], ('t', 'uple'), 'string type!!']\n",
        "\n",
        "print(f'There are {len(mixed_list)} types!\\n')\n",
        "\n",
        "mixed_list_slice  = mixed_list[2:8]\n",
        "print(mixed_list_slice)"
      ],
      "metadata": {
        "id": "_rHdUR-ueP4-",
        "colab": {
          "base_uri": "https://localhost:8080/"
        },
        "outputId": "f0617d03-80dd-4036-a69e-daf611fa9b45"
      },
      "execution_count": null,
      "outputs": [
        {
          "output_type": "stream",
          "name": "stdout",
          "text": [
            "There are 10 types!\n",
            "\n",
            "['2', 3.0, None, {'e', 's', 't'}, {'foo': 'bar'}, []]\n"
          ]
        }
      ]
    },
    {
      "cell_type": "markdown",
      "source": [
        "# V. Робота з кортежами."
      ],
      "metadata": {
        "id": "pCjR1dJb1Qbi"
      }
    },
    {
      "cell_type": "markdown",
      "source": [
        "14. Створити кортеж з один елементом."
      ],
      "metadata": {
        "id": "fAZCxAX06R_k"
      }
    },
    {
      "cell_type": "code",
      "source": [
        "tuple_1 = ('an element',)"
      ],
      "metadata": {
        "id": "H7d82WkQev3e"
      },
      "execution_count": null,
      "outputs": []
    },
    {
      "cell_type": "markdown",
      "source": [
        "15. Порівняйте список та кортеж. Назвіть схожості та відмінності, випадки використання."
      ],
      "metadata": {
        "id": "8LCtYcmI6w1M"
      }
    },
    {
      "cell_type": "markdown",
      "source": [
        "Списки й кортежі є структурами даних, які можуть зберігати послідовності елементів.\n",
        "\n",
        "Схожості кортежів і списків:\n",
        "\n",
        "1) Обидві структури підтримують індексацію та slices для доступу до елементів та створення їх підмножин.\n",
        "2) Списки та кортежі - це iterables, ми можемо використовувати їх в циклах\n",
        "3) Обидві структури підтримують вкладеність елементів\n",
        "4) Списки і кортежі мають деякі спільні методи - зокрема len(), max(), min()\n",
        "\n",
        "Відмінності:\n",
        "\n",
        "1) Списки є змінними, тобто їхні елементи можна модифікувати. Кортежі є незмінними структурами даних.\n",
        "2) Списки визначаються за допомогою квадратних дужок [], тоді як кортежі використовують круглі дужки (). Для кортежів з одним елементом потрібна кома після цього елементу, наприклад, (element,).\n",
        "3) Кортежі, займають менше місця в пам'яті та працюють швидше.\n",
        "4) Кортежі можна використовувати як ключі в словниках, завдяки їх незмінності, а списки - ні.\n",
        "\n",
        "Списки: Використовуються, коли дані можуть змінюватися під час виконання програми. Наприклад, коли потрібно додавати, видаляти або змінювати елементи, а також мати дублікати.\n",
        "\n",
        "Кортежі можна використовувати для відображення незмінних даних, що мають обмежену кількість характеристик (зокрема, координати точки за x, y, z) і для даних, що чітко впорядковані."
      ],
      "metadata": {
        "id": "u70cidGn2MTk"
      }
    },
    {
      "cell_type": "markdown",
      "source": [
        "*місце для текстової відповіді"
      ],
      "metadata": {
        "id": "fUsN1Hnue0C6"
      }
    },
    {
      "cell_type": "markdown",
      "source": [
        "16. Створіть кортеж з 11ти елементів чисел з рухомою комою та отримайте кожен парний за індексом елемент в зворотньому порядку. Наприклад, маючи (1.2, 2.3, 3.3, 4.3, 5.3, 6.3, 7.3, 8.3, 9.3, 0.3), отримати (0.3, 8.3, 6.3, 4.3, 2.3). Результат збережіть в нову змінну та виведіть на екран."
      ],
      "metadata": {
        "id": "m0xrwFijAmDD"
      }
    },
    {
      "cell_type": "code",
      "source": [
        "float_tuple =  (1.2, 2.3, 3.3, 4.3, 5.3, 6.3, 7.3, 8.3, 9.3, 0.3)\n",
        "float_tuple_slice = float_tuple[::-2]\n",
        "print(float_tuple_slice)"
      ],
      "metadata": {
        "id": "p-5DAH6XfAGA",
        "colab": {
          "base_uri": "https://localhost:8080/"
        },
        "outputId": "f0e0b0a6-055b-4d52-eb86-c900bc65c46f"
      },
      "execution_count": null,
      "outputs": [
        {
          "output_type": "stream",
          "name": "stdout",
          "text": [
            "(0.3, 8.3, 6.3, 4.3, 2.3)\n"
          ]
        }
      ]
    },
    {
      "cell_type": "markdown",
      "source": [
        "# VI. Множини (Set)."
      ],
      "metadata": {
        "id": "rW_I9dt3x6cW"
      }
    },
    {
      "cell_type": "markdown",
      "source": [
        "17. Створити множину без елементів. Після цого за допомогою методу додайте кілька різних елементів до множини. Чи множини є змінним типом даних?"
      ],
      "metadata": {
        "id": "zNjRLHLw1Bgg"
      }
    },
    {
      "cell_type": "code",
      "source": [
        "set_1 = set()\n",
        "print(id(set_1))\n",
        "\n",
        "set_1.add('a')\n",
        "set_1.add('b')\n",
        "set_1.add('c')\n",
        "set_1.add('a')\n",
        "\n",
        "print(id(set_1))\n",
        "print(set_1)\n"
      ],
      "metadata": {
        "id": "KOv7zc2Kfo4N",
        "colab": {
          "base_uri": "https://localhost:8080/"
        },
        "outputId": "e62a116b-dd0f-4e32-d96a-129a4b20f7b5"
      },
      "execution_count": null,
      "outputs": [
        {
          "output_type": "stream",
          "name": "stdout",
          "text": [
            "132400127069984\n",
            "132400127069984\n",
            "{'c', 'a', 'b'}\n"
          ]
        }
      ]
    },
    {
      "cell_type": "markdown",
      "source": [
        "Множини - це мутабельний тип даних у Python, це можна довести тим, що посилання в пам'яті на об'єкт множини після зміни її елементів не змінюється."
      ],
      "metadata": {
        "id": "X_WKc4z-4aaw"
      }
    },
    {
      "cell_type": "markdown",
      "source": [
        "*місце для текстової відповіді"
      ],
      "metadata": {
        "id": "vxS6dVYiftZQ"
      }
    },
    {
      "cell_type": "markdown",
      "source": [
        "18. Створити множину, маючи список my_list = [1, 1, 2, 67, 67, 8, 9]. Пояснити, чому \"зникли\" деякі елементи."
      ],
      "metadata": {
        "id": "gHpT0Zw_1HEF"
      }
    },
    {
      "cell_type": "code",
      "source": [
        "set_from_list = set([1, 1, 2, 67, 67, 8, 9])\n",
        "set_from_list"
      ],
      "metadata": {
        "id": "qCN4uvJ_fxmu",
        "colab": {
          "base_uri": "https://localhost:8080/"
        },
        "outputId": "e79c57a0-1ef9-42c4-f3d9-fe33a52520b5"
      },
      "execution_count": null,
      "outputs": [
        {
          "output_type": "execute_result",
          "data": {
            "text/plain": [
              "{1, 2, 8, 9, 67}"
            ]
          },
          "metadata": {},
          "execution_count": 102
        }
      ]
    },
    {
      "cell_type": "markdown",
      "source": [
        "*місце для текстової відповіді"
      ],
      "metadata": {
        "id": "tFNc1e20fyny"
      }
    },
    {
      "cell_type": "markdown",
      "source": [
        "Множина - це невпорядкована колекція унікальних елементів, на відміну від списку. Тому, коли зі списку ми створюємо множину, дублікати елементів видаляються, множина сортується і, відповідно, порушується порядок елементів зі списку."
      ],
      "metadata": {
        "id": "rG9-DWEo5VjA"
      }
    },
    {
      "cell_type": "markdown",
      "source": [
        "19. Створіть дві множини. Продемонстуйте над ними операції: обʼєднання, різниці, пересічі та симетричної різниці. Використовуйте методи, що не змінюють множини, а створюють нові."
      ],
      "metadata": {
        "id": "SRMkGizS1UwY"
      }
    },
    {
      "cell_type": "code",
      "source": [
        "set_1 = {num for num in range(7)}\n",
        "set_2 = {4, 5, 6, 'unique', 'string'}\n",
        "\n",
        "print('обʼєднання - ', set_1 | set_2)\n",
        "print('різниця 1 - 2 -', set_1 - set_2)\n",
        "print('різниця 2 - 1', set_2 - set_1)\n",
        "print('перетин - ', set_1 & set_2)\n",
        "print('симетрична різниця - ', set_1 ^ set_2)"
      ],
      "metadata": {
        "id": "h0T-VuDnf3Ri",
        "colab": {
          "base_uri": "https://localhost:8080/"
        },
        "outputId": "3451e99f-c2e5-4081-ed07-69e6bef1f068"
      },
      "execution_count": null,
      "outputs": [
        {
          "output_type": "stream",
          "name": "stdout",
          "text": [
            "обʼєднання -  {0, 1, 2, 3, 4, 5, 6, 'unique', 'string'}\n",
            "різниця 1 - 2 - {0, 1, 2, 3}\n",
            "різниця 2 - 1 {'unique', 'string'}\n",
            "перетин -  {4, 5, 6}\n",
            "симетрична різниця -  {0, 1, 2, 3, 'unique', 'string'}\n"
          ]
        }
      ]
    },
    {
      "cell_type": "markdown",
      "source": [
        "# VII. Словники (Dictionary)."
      ],
      "metadata": {
        "id": "kWc8gkzTx7Ea"
      }
    },
    {
      "cell_type": "markdown",
      "source": [
        "20. Створіть пустий словник. До нього додайте чотири пари елементів такі, щоб їхні ключі були різних типів. Чи може список бути ключем? Чому?"
      ],
      "metadata": {
        "id": "i5FLwj-B2ybQ"
      }
    },
    {
      "cell_type": "code",
      "source": [
        "dictionary_1 = {}\n",
        "# alternative\n",
        "dictionary_2 = dict()\n",
        "\n",
        "dictionary_1[0.00] = 'zero'\n",
        "dictionary_1['to'] = 'hero'\n",
        "dictionary_1[True] = False\n",
        "dictionary_1[(1, 2, 3)] = 'tuple'\n",
        "\n",
        "dictionary_1"
      ],
      "metadata": {
        "id": "hxgv3BzrgLAV",
        "colab": {
          "base_uri": "https://localhost:8080/"
        },
        "outputId": "6a0ff00f-ef3b-4c9f-e7f4-fecaa765d815"
      },
      "execution_count": null,
      "outputs": [
        {
          "output_type": "execute_result",
          "data": {
            "text/plain": [
              "{0.0: 'zero', 'to': 'hero', True: False, (1, 2, 3): 'tuple'}"
            ]
          },
          "metadata": {},
          "execution_count": 115
        }
      ]
    },
    {
      "cell_type": "markdown",
      "source": [
        "*місце для текстової відповіді"
      ],
      "metadata": {
        "id": "zwa7UVN-gR3m"
      }
    },
    {
      "cell_type": "markdown",
      "source": [
        "Список не може бути ключем словника, тому що це змінний тип даних. Незмінність ключів словника забезпечує сталість хеш-значення ключа протягом використання словника, що є необхідним для ефективного доступу до значень."
      ],
      "metadata": {
        "id": "tEDweK2B-INP"
      }
    },
    {
      "cell_type": "markdown",
      "source": [
        "21. Створіть словник, де значенням в одній з пар теж буде словник, який теж має вкладений словник. Виведіть на екран значення, що міститься в словнику, що знаходиться на найнижчому рівні ієрархії вкладеності (найбільш внутрішній)."
      ],
      "metadata": {
        "id": "WM_pMlJsgoNf"
      }
    },
    {
      "cell_type": "code",
      "source": [
        "dictionary_with_nested_dictionaries = {\n",
        "    'dictionary': {\n",
        "        'nested_dictionary': {\n",
        "            'woo': 'hoo!'\n",
        "        }\n",
        "    }\n",
        "}\n",
        "\n",
        "print(dictionary_with_nested_dictionaries['dictionary']['nested_dictionary']['woo'])"
      ],
      "metadata": {
        "id": "60dlP7IHhAy4",
        "colab": {
          "base_uri": "https://localhost:8080/"
        },
        "outputId": "4c1d86a7-04cc-4c1c-c7f3-ecda9c901a52"
      },
      "execution_count": null,
      "outputs": [
        {
          "output_type": "stream",
          "name": "stdout",
          "text": [
            "hoo!\n"
          ]
        }
      ]
    },
    {
      "cell_type": "markdown",
      "source": [
        "# Вітаю! Ви велика(ий) молодець, що впоралась(вся). Похваліть себе та побалуйте чимось приємним. Я Вами пишаюся."
      ],
      "metadata": {
        "id": "xOZP0hkx6cCr"
      }
    }
  ]
}